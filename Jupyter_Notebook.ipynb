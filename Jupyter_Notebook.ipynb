{
 "cells": [
  {
   "cell_type": "markdown",
   "metadata": {},
   "source": [
    "<center>\n",
    "    <img src=\"https://cf-courses-data.s3.us.cloud-object-storage.appdomain.cloud/IBMDeveloperSkillsNetwork-DS0105EN-SkillsNetwork/labs/Module2/images/SN_web_lightmode.png\" width=\"300\" alt=\"cognitiveclass.ai logo\">\n",
    "</center>\n"
   ]
  },
  {
   "cell_type": "markdown",
   "metadata": {},
   "source": [
    "#### Add your code below following the instructions given in the course\n"
   ]
  },
  {
   "cell_type": "markdown",
   "metadata": {},
   "source": [
    "# Peer Graded Assigment"
   ]
  },
  {
   "cell_type": "markdown",
   "metadata": {},
   "source": [
    "*This is the assigment to share with my peers*"
   ]
  },
  {
   "cell_type": "markdown",
   "metadata": {},
   "source": [
    "**Languages of Data Science**\n",
    "\n",
    "-Python\n",
    "\n",
    "-R\n",
    "\n",
    "-SQL\n",
    "\n",
    "-Scala\n",
    "\n",
    "-Java\n",
    "\n",
    "-C++\n",
    "\n",
    "-Julia\n",
    "\n",
    "-Javascript\n",
    "\n",
    "-PHP\n",
    "\n",
    "-Go\n",
    "\n",
    "-Ruby\n",
    "\n",
    "-Visual Basic"
   ]
  },
  {
   "cell_type": "markdown",
   "metadata": {},
   "source": [
    "**Libraries**\n",
    "\n",
    "-Python libraries\n",
    "\n",
    "  >1.-Scientific Computing Libraries in Python\n",
    " \n",
    "  >2.-Visualization Libraries in Python\n",
    " \n",
    "  >3.-High Level- Machine Learning and Deep Learning\n",
    " \n",
    "  >4.-Deep Learning Libraries in Python\n",
    " \n",
    "-Libraries and other frameworks used in other languages \n",
    "\n"
   ]
  },
  {
   "cell_type": "markdown",
   "metadata": {},
   "source": [
    "**Data Science Tools**\n",
    "\n",
    "| Management | Integration | Visualization | Model Deployment | Model Monitoring | Code Asset | Data Asset | Development Environments |Execution Environments | Fully Integrated Visual Tools |\n",
    "|--- | --- | --- | --- | --- | --- | --- | --- | --- | --- |\n",
    "| MySQL | Apache Airflow| Hue | Prediction IO | Model DB | git | Apache Atlas | Jupyter | Apache Spark | Knime |\n",
    "| PostgreSQL|Kubeflow| Kibana | Seldon | Prometheus | GitHub | Egeria | JupyterLab | Flink | Orange |\n",
    "|MongoDBApache| Apache Kafka| Superset | mleap | AI Fairness 360 Open Source Toolkit | GitLab| Kylo | Apache Seppelin | Ray |\n",
    "|Apache Cassandra| Apache nifi| | Tensor Flow Service | Adversarial Robustness 360 Toolbox | Bitbucket | | RStudio |\n",
    "|Hadoop| Spark SQL | | Tensor Flow Lite | AI Explainability 360 | | | Spyder |\n",
    "|Ceph| Node Red | | Tensor Flow.JS |\n",
    "|Elasticsearch|"
   ]
  },
  {
   "cell_type": "markdown",
   "metadata": {},
   "source": [
    "**The next code show you some arithmetic expressions, like multiply, sum, and convert minutes to hours**"
   ]
  },
  {
   "cell_type": "code",
   "execution_count": 2,
   "metadata": {},
   "outputs": [
    {
     "data": {
      "text/plain": [
       "14"
      ]
     },
     "execution_count": 2,
     "metadata": {},
     "output_type": "execute_result"
    }
   ],
   "source": [
    "(2*3)+8"
   ]
  },
  {
   "cell_type": "code",
   "execution_count": 3,
   "metadata": {},
   "outputs": [
    {
     "data": {
      "text/plain": [
       "2.0"
      ]
     },
     "execution_count": 3,
     "metadata": {},
     "output_type": "execute_result"
    }
   ],
   "source": [
    "120/60"
   ]
  },
  {
   "cell_type": "markdown",
   "metadata": {},
   "source": [
    "**Objetives**\n",
    "\n",
    "1.Objetive 1\n",
    "\n",
    "2.Objetive 2\n",
    "\n",
    "3.Objetive 3\n",
    "\n",
    "4.Objetive 4\n"
   ]
  },
  {
   "cell_type": "markdown",
   "metadata": {},
   "source": [
    "*Ana D.*"
   ]
  },
  {
   "cell_type": "code",
   "execution_count": null,
   "metadata": {},
   "outputs": [],
   "source": []
  }
 ],
 "metadata": {
  "kernelspec": {
   "display_name": "Python",
   "language": "python",
   "name": "conda-env-python-py"
  },
  "language_info": {
   "codemirror_mode": {
    "name": "ipython",
    "version": 3
   },
   "file_extension": ".py",
   "mimetype": "text/x-python",
   "name": "python",
   "nbconvert_exporter": "python",
   "pygments_lexer": "ipython3",
   "version": "3.7.12"
  }
 },
 "nbformat": 4,
 "nbformat_minor": 4
}
